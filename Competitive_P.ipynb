{
 "cells": [
  {
   "cell_type": "code",
   "execution_count": null,
   "metadata": {},
   "outputs": [],
   "source": [
    "def overlap(com,mapp):\n",
    "    if (len(mapp)==0):\n",
    "        return True\n",
    "    for i in mapp:\n",
    "        if (com[0]<i[1]):\n",
    "            return False\n",
    "    return True\n",
    "\n",
    "t = int(input())\n",
    "cas = 1\n",
    "while(t):\n",
    "\n",
    "    n = int(input())\n",
    "    activity = []\n",
    "    for i in range(n):\n",
    "        a1, a2 = map(int, input().strip().split())\n",
    "        activity.append([a1,a2])\n",
    "        \n",
    "    C = []\n",
    "    J = []\n",
    "    flg = 0\n",
    "    st = \"\"\n",
    "    for i in activity:\n",
    "        if overlap(i,C):\n",
    "            C.append(i)\n",
    "            st = st + \"C\"\n",
    "        elif overlap(i,J):\n",
    "            J.append(i)\n",
    "            st = st + \"J\"\n",
    "        else:\n",
    "            flg = 1\n",
    "    if flg:\n",
    "        print(\"Case #\"+str(cas)+\": IMPOSSIBLE\")\n",
    "    else:\n",
    "        print(\"Case #\"+str(cas)+\": \"+st)\n",
    "    cas = cas+1\n",
    "    t=t-1"
   ]
  },
  {
   "cell_type": "code",
   "execution_count": 17,
   "metadata": {},
   "outputs": [],
   "source": [
    "def construct_tree_by_Ian(edges):\n",
    "\n",
    "    def get_node(node):\n",
    "        if node not in tree:\n",
    "            tree[node] = {}\n",
    "        return tree[node]\n",
    "\n",
    "    tree = {}\n",
    "\n",
    "    root = 1\n",
    "    print (root)\n",
    "    stack = [root]\n",
    "    while len(stack):\n",
    "        n = stack.pop()\n",
    "        for e in edges:\n",
    "            if e[0] == n:\n",
    "                get_node(n)[e[1]] = get_node(e[1])\n",
    "                stack.append(e[1])\n",
    "\n",
    "    return {root: tree[root]}"
   ]
  },
  {
   "cell_type": "code",
   "execution_count": 18,
   "metadata": {
    "scrolled": true
   },
   "outputs": [],
   "source": [
    "import numpy as np \n",
    "\n",
    "from collections import defaultdict as dft\n",
    "def constructt(edges):\n",
    "    ts = []\n",
    "    nds = set(np.array(edges).flatten())\n",
    "    trees = dft(dict)\n",
    "\n",
    "    for  parent,child in edges:\n",
    "        trees[parent][child] = trees[child]\n",
    "    \n",
    "    for i in nds:\n",
    "        roots = {i}\n",
    "        ts.append({root: trees[root] for root in roots})\n",
    "    return ts"
   ]
  },
  {
   "cell_type": "code",
   "execution_count": 21,
   "metadata": {},
   "outputs": [
    {
     "name": "stdout",
     "output_type": "stream",
     "text": [
      "Case # 1 :  1\n"
     ]
    }
   ],
   "source": [
    "import math\n",
    "\n",
    "def ps(x):\n",
    "    sr = math.sqrt(x) \n",
    "    return ((sr - math.floor(sr)) == 0)\n",
    "\n",
    "def sub_lists(list1): \n",
    "\n",
    "    sublist = []\n",
    "    for i in range(len(list1) + 1):\n",
    "        for j in range(i + 1, len(list1) + 1):\n",
    "            sub = list1[i:j] \n",
    "            sublist.append(sub) \n",
    "    return sublist \n",
    "\n",
    "\n",
    "\n",
    "t = int(input())\n",
    "cas = 1\n",
    "while(t):\n",
    "\n",
    "    n = int(input())\n",
    "\n",
    "    activity = list(map(int, input().strip().split()))\n",
    "\n",
    "    sublist = sub_lists(activity)\n",
    "    cnt =0\n",
    "    for i in sublist:\n",
    "        if(ps(sum(i))):\n",
    "            cnt = cnt+1\n",
    "            \n",
    "    print(\"Case #\",cas,\": \",cnt)\n",
    "    cas = cas+1\n",
    "    t=t-1"
   ]
  },
  {
   "cell_type": "code",
   "execution_count": 12,
   "metadata": {},
   "outputs": [
    {
     "name": "stdout",
     "output_type": "stream",
     "text": [
      "1 3 5 4 2\n"
     ]
    }
   ],
   "source": [
    "def findZigZagSequence(a, n):\n",
    "    a.sort()\n",
    "    b=[0]*n\n",
    "    m = n-1\n",
    "    \n",
    "    for i in range(n):\n",
    "        if i%2:\n",
    "            b[m] = a[i]\n",
    "            m-=1\n",
    "        else:\n",
    "            b[int(i/2)] = a[i]\n",
    "\n",
    "    for i in range (n):\n",
    "        if i == n-1:\n",
    "            print(b[i])\n",
    "        else:\n",
    "            print(b[i], end = ' ')\n",
    "\n",
    "n = 5\n",
    "a = [2,3,5,4,1]\n",
    "findZigZagSequence(a, n)"
   ]
  },
  {
   "cell_type": "code",
   "execution_count": 11,
   "metadata": {},
   "outputs": [
    {
     "name": "stdout",
     "output_type": "stream",
     "text": [
      "4\n"
     ]
    }
   ],
   "source": [
    "a = [1,2,4,2,5,3,5,3,1]\n",
    "x = 0\n",
    "for i in a:\n",
    "    x^=i\n",
    "print(x)"
   ]
  },
  {
   "cell_type": "code",
   "execution_count": 2,
   "metadata": {},
   "outputs": [],
   "source": [
    "import numpy as np"
   ]
  },
  {
   "cell_type": "code",
   "execution_count": 3,
   "metadata": {},
   "outputs": [
    {
     "data": {
      "image/png": "[encoded data removed]",
      "text/plain": [
       "<Figure size 432x288 with 1 Axes>"
      ]
     },
     "metadata": {
      "needs_background": "light"
     },
     "output_type": "display_data"
    }
   ],
   "source": [
    "from scipy.fft import fft, fftfreq\n",
    "N = 600\n",
    "T = 1.0 / 800.0\n",
    "x = np.linspace(0.0, N*T, N, endpoint=False)\n",
    "y = np.sin(50.0 * 2.0*np.pi*x) + 0.5*np.sin(80.0 * 2.0*np.pi*x)\n",
    "yf = fft(y)\n",
    "xf = fftfreq(N, T)[:N//2]\n",
    "import matplotlib.pyplot as plt\n",
    "plt.plot(xf, 2.0/N * np.abs(yf[0:N//2]))\n",
    "plt.grid()\n",
    "plt.show()\n"
   ]
  },
  {
   "cell_type": "code",
   "execution_count": 1,
   "metadata": {},
   "outputs": [],
   "source": [
    "def checkPassword(password):\n",
    "    \n",
    "    if len(password) < 8:\n",
    "        return False\n",
    "    \n",
    "    has_lower = False\n",
    "    for c in password:\n",
    "        if c.islower():\n",
    "            has_lower = True\n",
    "            break\n",
    "    if not has_lower:\n",
    "        return False\n",
    "    \n",
    "    has_upper = False\n",
    "    for c in password:\n",
    "        if c.isupper():\n",
    "            has_upper = True\n",
    "            break\n",
    "    if not has_upper:\n",
    "        return False\n",
    "    \n",
    "    has_digit = False\n",
    "    for c in password:\n",
    "        if c.isdigit():\n",
    "            has_digit = True\n",
    "            break\n",
    "    if not has_digit:\n",
    "        return False\n",
    "    \n",
    "    has_special = False\n",
    "    for c in password:\n",
    "        if not c.isalnum():\n",
    "            has_special = True\n",
    "            break\n",
    "    if not has_special:\n",
    "        return False\n",
    "    \n",
    "    for i in range(len(password) - 1):\n",
    "        if password[i] == password[i+1]:\n",
    "            return False\n",
    "    \n",
    "    return True"
   ]
  },
  {
   "cell_type": "code",
   "execution_count": 3,
   "metadata": {},
   "outputs": [
    {
     "name": "stdout",
     "output_type": "stream",
     "text": [
      "False\n"
     ]
    }
   ],
   "source": [
    "print(checkPassword(\"11A!A!Aa\"))"
   ]
  }
 ],
 "metadata": {
  "interpreter": {
   "hash": "ad2bdc8ecc057115af97d19610ffacc2b4e99fae6737bb82f5d7fb13d2f2c186"
  },
  "kernelspec": {
   "display_name": "Python 3.8.8 ('base')",
   "language": "python",
   "name": "python3"
  },
  "language_info": {
   "codemirror_mode": {
    "name": "ipython",
    "version": 3
   },
   "file_extension": ".py",
   "mimetype": "text/x-python",
   "name": "python",
   "nbconvert_exporter": "python",
   "pygments_lexer": "ipython3",
   "version": "3.8.8"
  }
 },
 "nbformat": 4,
 "nbformat_minor": 2
}
