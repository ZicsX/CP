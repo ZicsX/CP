{
 "cells": [
  {
   "cell_type": "code",
   "execution_count": null,
   "metadata": {},
   "outputs": [],
   "source": [
    "def overlap(com,mapp):\n",
    "    if (len(mapp)==0):\n",
    "        return True\n",
    "    for i in mapp:\n",
    "        if (com[0]<i[1]):\n",
    "            return False\n",
    "    return True\n",
    "\n",
    "t = int(input())\n",
    "cas = 1\n",
    "while(t):\n",
    "\n",
    "    n = int(input())\n",
    "    activity = []\n",
    "    for i in range(n):\n",
    "        a1, a2 = map(int, input().strip().split())\n",
    "        activity.append([a1,a2])\n",
    "        \n",
    "    C = []\n",
    "    J = []\n",
    "    flg = 0\n",
    "    st = \"\"\n",
    "    for i in activity:\n",
    "        if overlap(i,C):\n",
    "            C.append(i)\n",
    "            st = st + \"C\"\n",
    "        elif overlap(i,J):\n",
    "            J.append(i)\n",
    "            st = st + \"J\"\n",
    "        else:\n",
    "            flg = 1\n",
    "    if flg:\n",
    "        print(\"Case #\"+str(cas)+\": IMPOSSIBLE\")\n",
    "    else:\n",
    "        print(\"Case #\"+str(cas)+\": \"+st)\n",
    "    cas = cas+1\n",
    "    t=t-1"
   ]
  },
  {
   "cell_type": "code",
   "execution_count": 17,
   "metadata": {},
   "outputs": [],
   "source": [
    "def construct_tree_by_Ian(edges):\n",
    "\n",
    "    def get_node(node):\n",
    "        if node not in tree:\n",
    "            tree[node] = {}\n",
    "        return tree[node]\n",
    "\n",
    "    tree = {}\n",
    "\n",
    "    root = 1\n",
    "    print (root)\n",
    "    stack = [root]\n",
    "    while len(stack):\n",
    "        n = stack.pop()\n",
    "        for e in edges:\n",
    "            if e[0] == n:\n",
    "                get_node(n)[e[1]] = get_node(e[1])\n",
    "                stack.append(e[1])\n",
    "\n",
    "    return {root: tree[root]}"
   ]
  },
  {
   "cell_type": "code",
   "execution_count": 18,
   "metadata": {
    "scrolled": true
   },
   "outputs": [],
   "source": [
    "import numpy as np \n",
    "\n",
    "from collections import defaultdict as dft\n",
    "def constructt(edges):\n",
    "    ts = []\n",
    "    nds = set(np.array(edges).flatten())\n",
    "    trees = dft(dict)\n",
    "\n",
    "    for  parent,child in edges:\n",
    "        trees[parent][child] = trees[child]\n",
    "    \n",
    "    for i in nds:\n",
    "        roots = {i}\n",
    "        ts.append({root: trees[root] for root in roots})\n",
    "    return ts"
   ]
  },
  {
   "cell_type": "code",
   "execution_count": 21,
   "metadata": {},
   "outputs": [
    {
     "name": "stdout",
     "output_type": "stream",
     "text": [
      "Case # 1 :  1\n"
     ]
    }
   ],
   "source": [
    "import math\n",
    "\n",
    "def ps(x):\n",
    "    sr = math.sqrt(x) \n",
    "    return ((sr - math.floor(sr)) == 0)\n",
    "\n",
    "def sub_lists(list1): \n",
    "\n",
    "    sublist = []\n",
    "    for i in range(len(list1) + 1):\n",
    "        for j in range(i + 1, len(list1) + 1):\n",
    "            sub = list1[i:j] \n",
    "            sublist.append(sub) \n",
    "    return sublist \n",
    "\n",
    "t = int(input())\n",
    "cas = 1\n",
    "while(t):\n",
    "\n",
    "    n = int(input())\n",
    "\n",
    "    activity = list(map(int, input().strip().split()))\n",
    "\n",
    "    sublist = sub_lists(activity)\n",
    "    cnt =0\n",
    "    for i in sublist:\n",
    "        if(ps(sum(i))):\n",
    "            cnt = cnt+1\n",
    "            \n",
    "    print(\"Case #\",cas,\": \",cnt)\n",
    "    cas = cas+1\n",
    "    t=t-1"
   ]
  },
  {
   "cell_type": "code",
   "execution_count": 5,
   "metadata": {},
   "outputs": [
    {
     "name": "stdout",
     "output_type": "stream",
     "text": [
      "1 3 5 4 2\n"
     ]
    }
   ],
   "source": [
    "def findZigZagSequence(a, n):\n",
    "    a.sort()\n",
    "    b=[0]*n\n",
    "    m = n-1\n",
    "    \n",
    "    for i in range(n):\n",
    "        if i%2:\n",
    "            b[m] = a[i]\n",
    "            m-=1\n",
    "        else:\n",
    "            b[int(i/2)] = a[i]\n",
    "\n",
    "    for i in range (n):\n",
    "        if i == n-1:\n",
    "            print(b[i])\n",
    "        else:\n",
    "            print(b[i], end = ' ')\n",
    "\n",
    "n = 5\n",
    "a = [2,3,5,4,1]\n",
    "findZigZagSequence(a, n)"
   ]
  },
  {
   "cell_type": "code",
   "execution_count": 4,
   "metadata": {},
   "outputs": [
    {
     "data": {
      "image/png": "[encoded data removed]",
      "text/plain": [
       "<Figure size 432x288 with 1 Axes>"
      ]
     },
     "metadata": {
      "needs_background": "light"
     },
     "output_type": "display_data"
    }
   ],
   "source": [
    "import numpy as np\n",
    "from scipy.fft import fft, fftfreq\n",
    "N = 600\n",
    "T = 1.0 / 800.0\n",
    "x = np.linspace(0.0, N*T, N, endpoint=False)\n",
    "y = np.sin(50.0 * 2.0*np.pi*x) + 0.5*np.sin(80.0 * 2.0*np.pi*x)\n",
    "yf = fft(y)\n",
    "xf = fftfreq(N, T)[:N//2]\n",
    "import matplotlib.pyplot as plt\n",
    "plt.plot(xf, 2.0/N * np.abs(yf[0:N//2]))\n",
    "plt.grid()\n",
    "plt.show()\n"
   ]
  },
  {
   "cell_type": "code",
   "execution_count": null,
   "metadata": {},
   "outputs": [],
   "source": [
    "import numpy\n",
    "\n",
    "def check_missing_usage_examples_or_notes(obj):\n",
    "    if not hasattr(obj, '__doc__'):\n",
    "        return False\n",
    "    \n",
    "    doc = obj.__doc__\n",
    "    if not doc:\n",
    "        return False\n",
    "    \n",
    "    if 'Examples' not in doc:\n",
    "        return True\n",
    "    \n",
    "    # if 'Notes' not in doc:\n",
    "    #     return True\n",
    "    \n",
    "    return False\n",
    "\n",
    "for name in dir(numpy):\n",
    "    obj = getattr(numpy, name)\n",
    "    if check_missing_usage_examples_or_notes(obj):\n",
    "        print('Missing:', name)"
   ]
  },
  {
   "cell_type": "code",
   "execution_count": 1,
   "metadata": {},
   "outputs": [
    {
     "ename": "NameError",
     "evalue": "name 'numpy' is not defined",
     "output_type": "error",
     "traceback": [
      "\u001b[1;31m---------------------------------------------------------------------------\u001b[0m",
      "\u001b[1;31mNameError\u001b[0m                                 Traceback (most recent call last)",
      "\u001b[1;32mc:\\Users\\zics\\Desktop\\CP\\Competitive_P.ipynb Cell 8'\u001b[0m in \u001b[0;36m<cell line: 18>\u001b[1;34m()\u001b[0m\n\u001b[0;32m     <a href='vscode-notebook-cell:/c%3A/Users/zics/Desktop/CP/Competitive_P.ipynb#ch0000008?line=15'>16</a>\u001b[0m A \u001b[39m=\u001b[39m []\n\u001b[0;32m     <a href='vscode-notebook-cell:/c%3A/Users/zics/Desktop/CP/Competitive_P.ipynb#ch0000008?line=16'>17</a>\u001b[0m \u001b[39m# check all functions in numpy\u001b[39;00m\n\u001b[1;32m---> <a href='vscode-notebook-cell:/c%3A/Users/zics/Desktop/CP/Competitive_P.ipynb#ch0000008?line=17'>18</a>\u001b[0m \u001b[39mfor\u001b[39;00m name, obj \u001b[39min\u001b[39;00m numpy\u001b[39m.\u001b[39m\u001b[39m__dict__\u001b[39m\u001b[39m.\u001b[39mitems():\n\u001b[0;32m     <a href='vscode-notebook-cell:/c%3A/Users/zics/Desktop/CP/Competitive_P.ipynb#ch0000008?line=18'>19</a>\u001b[0m     \u001b[39mif\u001b[39;00m callable(obj) \u001b[39mand\u001b[39;00m \u001b[39mnot\u001b[39;00m check_docstring(obj):\n\u001b[0;32m     <a href='vscode-notebook-cell:/c%3A/Users/zics/Desktop/CP/Competitive_P.ipynb#ch0000008?line=19'>20</a>\u001b[0m         A\u001b[39m.\u001b[39mappend(name)\n",
      "\u001b[1;31mNameError\u001b[0m: name 'numpy' is not defined"
     ]
    }
   ],
   "source": [
    "import numpy as np\n",
    "\n",
    "def check_docstring(obj):\n",
    "\n",
    "    if not obj.__doc__:\n",
    "        return False\n",
    "\n",
    "    doc = obj.__doc__.lower()\n",
    "\n",
    "    for section in ['Examples']:\n",
    "        if section not in doc:\n",
    "            return False\n",
    "\n",
    "    return True\n",
    "\n",
    "A = []\n",
    "# check all functions in numpy\n",
    "for name, obj in numpy.__dict__.items():\n",
    "    if callable(obj) and not check_docstring(obj):\n",
    "        A.append(name)"
   ]
  },
  {
   "cell_type": "code",
   "execution_count": 118,
   "metadata": {},
   "outputs": [],
   "source": [
    "\n",
    "numpyDocStrings = []\n",
    "for x in dir(numpy):\n",
    "  if x.__doc__:\n",
    "    if x.__doc__.count(\">>>\") == 0:\n",
    "      numpyDocStrings.append(x)\n",
    "\n",
    "\n",
    "  "
   ]
  },
  {
   "cell_type": "code",
   "execution_count": 127,
   "metadata": {},
   "outputs": [
    {
     "name": "stdout",
     "output_type": "stream",
     "text": [
      "zeros\n",
      "zeros_like\n"
     ]
    }
   ],
   "source": [
    "for x in dir(numpy)[-2:]:\n",
    "    print(x)\n"
   ]
  },
  {
   "cell_type": "code",
   "execution_count": 113,
   "metadata": {},
   "outputs": [],
   "source": [
    "\n",
    "def remove(words):\n",
    "    return [word for word in words if not word.isupper() and not word.startswith('_') and not word.startswith('__')]"
   ]
  },
  {
   "cell_type": "code",
   "execution_count": 114,
   "metadata": {},
   "outputs": [],
   "source": [
    "numpyDocStrings = remove(numpyDocStrings)\n"
   ]
  },
  {
   "cell_type": "code",
   "execution_count": null,
   "metadata": {},
   "outputs": [],
   "source": [
    "numpyDocStrings"
   ]
  },
  {
   "cell_type": "code",
   "execution_count": 132,
   "metadata": {},
   "outputs": [
    {
     "data": {
      "text/plain": [
       "\"zeros(shape, dtype=float, order='C', *, like=None)\\n\\n    Return a new array of given shape and type, filled with zeros.\\n\\n    Parameters\\n    ----------\\n    shape : int or tuple of ints\\n        Shape of the new array, e.g., ``(2, 3)`` or ``2``.\\n    dtype : data-type, optional\\n        The desired data-type for the array, e.g., `numpy.int8`.  Default is\\n        `numpy.float64`.\\n    order : {'C', 'F'}, optional, default: 'C'\\n        Whether to store multi-dimensional data in row-major\\n        (C-style) or column-major (Fortran-style) order in\\n        memory.\\n    like : array_like, optional\\n        Reference object to allow the creation of arrays which are not\\n        NumPy arrays. If an array-like passed in as ``like`` supports\\n        the ``__array_function__`` protocol, the result will be defined\\n        by it. In this case, it ensures the creation of an array object\\n        compatible with that passed in via this argument.\\n\\n        .. versionadded:: 1.20.0\\n\\n    Returns\\n    -------\\n    out : ndarray\\n        Array of zeros with the given shape, dtype, and order.\\n\\n    See Also\\n    --------\\n    zeros_like : Return an array of zeros with shape and type of input.\\n    empty : Return a new uninitialized array.\\n    ones : Return a new array setting values to one.\\n    full : Return a new array of given shape filled with value.\\n\\n    Examples\\n    --------\\n    >>> np.zeros(5)\\n    array([ 0.,  0.,  0.,  0.,  0.])\\n\\n    >>> np.zeros((5,), dtype=int)\\n    array([0, 0, 0, 0, 0])\\n\\n    >>> np.zeros((2, 1))\\n    array([[ 0.],\\n           [ 0.]])\\n\\n    >>> s = (2,2)\\n    >>> np.zeros(s)\\n    array([[ 0.,  0.],\\n           [ 0.,  0.]])\\n\\n    >>> np.zeros((2,), dtype=[('x', 'i4'), ('y', 'i4')]) # custom dtype\\n    array([(0, 0), (0, 0)],\\n          dtype=[('x', '<i4'), ('y', '<i4')])\""
      ]
     },
     "execution_count": 132,
     "metadata": {},
     "output_type": "execute_result"
    }
   ],
   "source": [
    "numpy.zeros.__doc__"
   ]
  },
  {
   "cell_type": "code",
   "execution_count": null,
   "metadata": {},
   "outputs": [],
   "source": [
    "import numpy as np\n",
    "\n",
    "def find_missing_elements(docstring):\n",
    "    \"\"\"\n",
    "    Finds missing examples, notes, or see also in a docstring.\n",
    "\n",
    "    Parameters\n",
    "    ----------\n",
    "    docstring : string\n",
    "        The docstring to check.\n",
    "\n",
    "    Returns\n",
    "    -------\n",
    "    list\n",
    "        A list of the elements that are missing from the docstring.\n",
    "    \"\"\"\n",
    "    missing = []\n",
    "    if \">>>\" not in docstring:\n",
    "        missing.append(\"Examples\")\n",
    "    # if \"Notes\" not in docstring:\n",
    "    #     missing.append(\"Notes\")\n",
    "    # if \"See Also\" not in docstring:\n",
    "    #     missing.append(\"See Also\")\n",
    "    return missing\n",
    "\n",
    "# Get the docstrings for all of the NumPy modules.\n",
    "modules = np.__dict__\n",
    "docstrings = [modules[i].__doc__ for i in modules if modules[i].__doc__]\n",
    "\n",
    "# Find the missing elements for each docstring.\n",
    "for docstring in docstrings:\n",
    "    missing = find_missing_elements(docstring)\n",
    "    if missing:\n",
    "        print(\"Missing:\", missing)\n",
    " "
   ]
  },
  {
   "cell_type": "code",
   "execution_count": 60,
   "metadata": {},
   "outputs": [],
   "source": [
    "sys.setrecursionlimit(10000)"
   ]
  },
  {
   "cell_type": "code",
   "execution_count": 61,
   "metadata": {},
   "outputs": [
    {
     "ename": "",
     "evalue": "",
     "output_type": "error",
     "traceback": [
      "\u001b[1;31mCanceled future for execute_request message before replies were done"
     ]
    },
    {
     "ename": "",
     "evalue": "",
     "output_type": "error",
     "traceback": [
      "\u001b[1;31mThe Kernel crashed while executing code in the the current cell or a previous cell. Please review the code in the cell(s) to identify a possible cause of the failure. Click <a href='https://aka.ms/vscodeJupyterKernelCrash'>here</a> for more info. View Jupyter <a href='command:jupyter.viewOutput'>log</a> for further details."
     ]
    }
   ],
   "source": [
    "import numpy as np\n",
    "\n",
    "# recursively iterates through all the classes and functions of numpy and returns the name of any class or function whose doc string is missing examples\n",
    "def check_examples(item):\n",
    "        examples_missing = []\n",
    "        if hasattr(item, '__doc__') and hasattr(item, '__name__'):\n",
    "                if item.__doc__ is not None:\n",
    "\n",
    "                        if \">>\" in item.__doc__:\n",
    "                                print(item.__name__)\n",
    "        if isinstance(item, types.ModuleType):\n",
    "                for sub_item in dir(item):\n",
    "                        examples_missing.extend(check_examples(getattr(item, sub_item)))\n",
    "        return examples_missing\n",
    "\n",
    "\n",
    "# this function can be used to print the name of any class or function whose doc string is missing examples\n",
    "def print_examples_missing(examples_missing):\n",
    "        for item in examples_missing:\n",
    "                print(item)\n",
    "\n",
    "\n",
    "\n",
    "print_examples_missing(check_examples(np))"
   ]
  },
  {
   "cell_type": "code",
   "execution_count": 20,
   "metadata": {},
   "outputs": [
    {
     "data": {
      "text/plain": [
       "True"
      ]
     },
     "execution_count": 20,
     "metadata": {},
     "output_type": "execute_result"
    }
   ],
   "source": [
    "import os, types\n",
    "isinstance(np, types.ModuleType)\n"
   ]
  }
 ],
 "metadata": {
  "interpreter": {
   "hash": "ad2bdc8ecc057115af97d19610ffacc2b4e99fae6737bb82f5d7fb13d2f2c186"
  },
  "kernelspec": {
   "display_name": "Python 3.8.8 ('base')",
   "language": "python",
   "name": "python3"
  },
  "language_info": {
   "codemirror_mode": {
    "name": "ipython",
    "version": 3
   },
   "file_extension": ".py",
   "mimetype": "text/x-python",
   "name": "python",
   "nbconvert_exporter": "python",
   "pygments_lexer": "ipython3",
   "version": "3.8.8"
  }
 },
 "nbformat": 4,
 "nbformat_minor": 2
}
